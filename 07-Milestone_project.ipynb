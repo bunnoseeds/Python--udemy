{
 "cells": [
  {
   "cell_type": "code",
   "execution_count": 2,
   "metadata": {},
   "outputs": [
    {
     "name": "stdout",
     "output_type": "stream",
     "text": [
      "here is the current list\n",
      "[0, 1, 2]\n",
      "here is the current list\n",
      "['f', 1, 2]\n",
      "here is the current list\n",
      "['f', 1, 2]\n",
      "here is the current list\n",
      "['f', 'f', 2]\n",
      "oops, not valid position\n",
      "oops, not valid position\n",
      "oops, not valid position\n",
      "oops, not valid position\n",
      "oops, not valid position\n",
      "oops, not valid position\n",
      "oops, not valid position\n",
      "oops, not valid position\n",
      "oops, not valid position\n"
     ]
    }
   ],
   "source": [
    "# # **THIS IS NOT MY ORIGINAL DATA, used solutions for assistance as needed\n",
    "# ** UDEMY IS RESPONSIBLE\n",
    "# COURSE: The Complete Python Bootcamp: From Zero to Hero\n",
    "# by Jose Portilla\n",
    "\n",
    "# demo user interaction (not mine):\n",
    "\n",
    "def display(game_list): # display output\n",
    "    print('here is the current list')\n",
    "    print(game_list)\n",
    "\n",
    "def position_choice():  # prompt user input for position \n",
    "    position_choice = 'wrong'\n",
    "    while position_choice not in ['0','1','2']:\n",
    "        position_choice = input('pick a position (0,1,2): ')\n",
    "        if position_choice not in ['0','1','2']:\n",
    "            print('oops, not valid position')\n",
    "    return int(position_choice)\n",
    "\n",
    "def replacement_choice(game_list,position_choice):  # prompt user input for char\n",
    "    char_choice = input('enter string to place at position: ')\n",
    "    game_list[position_choice] = char_choice\n",
    "    return game_list\n",
    "\n",
    "def gameon_choice():  # prompt user input to continue playing or not\n",
    "    gameon_choice = 'wrong'\n",
    "    while gameon_choice not in ['Y','N','y','n']:\n",
    "        gameon_choice = input('Do you want to keep playing? (Y/N): ')\n",
    "        if gameon_choice not in ['Y','N','y','n']:\n",
    "            print('oops, not valid position')\n",
    "    if gameon_choice in ['Y','y']:\n",
    "        return True\n",
    "    else:\n",
    "        return False\n",
    "\n",
    "game_list = [0,1,2]\n",
    "gameon = True\n",
    "while gameon:\n",
    "    display(game_list)\n",
    "    pos_choice = position_choice()\n",
    "    game_list = replacement_choice(game_list,pos_choice)\n",
    "    display(game_list)\n",
    "    gameon = gameon_choice()"
   ]
  },
  {
   "cell_type": "code",
   "execution_count": 1,
   "metadata": {},
   "outputs": [
    {
     "name": "stdout",
     "output_type": "stream",
     "text": [
      "player1: \n",
      "you chose position: 1\n"
     ]
    },
    {
     "data": {
      "text/plain": [
       "['| |', '| |', '| |']"
      ]
     },
     "metadata": {},
     "output_type": "display_data"
    },
    {
     "data": {
      "text/plain": [
       "['| |', '| |', '| |']"
      ]
     },
     "metadata": {},
     "output_type": "display_data"
    },
    {
     "data": {
      "text/plain": [
       "['|x|', '| |', '| |']"
      ]
     },
     "metadata": {},
     "output_type": "display_data"
    },
    {
     "name": "stdout",
     "output_type": "stream",
     "text": [
      "player2: \n",
      "you chose position: 2\n"
     ]
    },
    {
     "data": {
      "text/plain": [
       "['| |', '| |', '| |']"
      ]
     },
     "metadata": {},
     "output_type": "display_data"
    },
    {
     "data": {
      "text/plain": [
       "['| |', '| |', '| |']"
      ]
     },
     "metadata": {},
     "output_type": "display_data"
    },
    {
     "data": {
      "text/plain": [
       "['|x|', '|o|', '| |']"
      ]
     },
     "metadata": {},
     "output_type": "display_data"
    },
    {
     "name": "stdout",
     "output_type": "stream",
     "text": [
      "player1: \n",
      "you chose position: 3\n"
     ]
    },
    {
     "data": {
      "text/plain": [
       "['| |', '| |', '| |']"
      ]
     },
     "metadata": {},
     "output_type": "display_data"
    },
    {
     "data": {
      "text/plain": [
       "['| |', '| |', '| |']"
      ]
     },
     "metadata": {},
     "output_type": "display_data"
    },
    {
     "data": {
      "text/plain": [
       "['|x|', '|o|', '|x|']"
      ]
     },
     "metadata": {},
     "output_type": "display_data"
    },
    {
     "name": "stdout",
     "output_type": "stream",
     "text": [
      "player2: \n",
      "you chose position: 6\n"
     ]
    },
    {
     "data": {
      "text/plain": [
       "['| |', '| |', '| |']"
      ]
     },
     "metadata": {},
     "output_type": "display_data"
    },
    {
     "data": {
      "text/plain": [
       "['| |', '| |', '|o|']"
      ]
     },
     "metadata": {},
     "output_type": "display_data"
    },
    {
     "data": {
      "text/plain": [
       "['|x|', '|o|', '|x|']"
      ]
     },
     "metadata": {},
     "output_type": "display_data"
    },
    {
     "name": "stdout",
     "output_type": "stream",
     "text": [
      "player1: \n",
      "you chose position: 5\n"
     ]
    },
    {
     "data": {
      "text/plain": [
       "['| |', '| |', '| |']"
      ]
     },
     "metadata": {},
     "output_type": "display_data"
    },
    {
     "data": {
      "text/plain": [
       "['| |', '|x|', '|o|']"
      ]
     },
     "metadata": {},
     "output_type": "display_data"
    },
    {
     "data": {
      "text/plain": [
       "['|x|', '|o|', '|x|']"
      ]
     },
     "metadata": {},
     "output_type": "display_data"
    },
    {
     "name": "stdout",
     "output_type": "stream",
     "text": [
      "player2: \n",
      "you chose position: 4\n"
     ]
    },
    {
     "data": {
      "text/plain": [
       "['| |', '| |', '| |']"
      ]
     },
     "metadata": {},
     "output_type": "display_data"
    },
    {
     "data": {
      "text/plain": [
       "['|o|', '|x|', '|o|']"
      ]
     },
     "metadata": {},
     "output_type": "display_data"
    },
    {
     "data": {
      "text/plain": [
       "['|x|', '|o|', '|x|']"
      ]
     },
     "metadata": {},
     "output_type": "display_data"
    },
    {
     "name": "stdout",
     "output_type": "stream",
     "text": [
      "player1: \n",
      "you chose position: 7\n"
     ]
    },
    {
     "data": {
      "text/plain": [
       "['|x|', '| |', '| |']"
      ]
     },
     "metadata": {},
     "output_type": "display_data"
    },
    {
     "data": {
      "text/plain": [
       "['|o|', '|x|', '|o|']"
      ]
     },
     "metadata": {},
     "output_type": "display_data"
    },
    {
     "data": {
      "text/plain": [
       "['|x|', '|o|', '|x|']"
      ]
     },
     "metadata": {},
     "output_type": "display_data"
    },
    {
     "name": "stdout",
     "output_type": "stream",
     "text": [
      "congrats player 1! you won!\n",
      "oops, not valid position\n",
      "oops, not valid position\n"
     ]
    }
   ],
   "source": [
    "# creating tic tac toe MY PROJECT!!!\n",
    "\n",
    "def display2(row1,row2,row3): # display output\n",
    "    print('here is the current board')\n",
    "    print(row1)\n",
    "    print(row2)\n",
    "    print(row3)\n",
    "\n",
    "def user_input2():           # user input\n",
    "    for i in range(0,10):           # for loop 10x over infinite\n",
    "        x = input('enter position # (1-9): ')\n",
    "        if x.isdigit() == True:         # checking if string can be an int\n",
    "            if x in ('1','2','3','4','5','6','7','8','9'):       # checking if num in range\n",
    "                position_choice = int(x)        # str --> int\n",
    "                break               # break out of loop\n",
    "        i +=1  \n",
    "    return position_choice\n",
    "\n",
    "def updated_output2(charr,position_choice,row1,row2,row3):\n",
    "    # row1 = ('|7|','|8|','|9|')\n",
    "    # row2 = ('|4|','|5|','|6|')\n",
    "    # row3 = ('|1|','|2|','|3|')  \n",
    "    if position_choice ==1:\n",
    "        row3[0] = f'|{charr}|'\n",
    "    elif position_choice ==2:\n",
    "        row3[1] = f'|{charr}|'\n",
    "    elif position_choice ==3:\n",
    "        row3[2] = f'|{charr}|'\n",
    "    elif position_choice ==4:\n",
    "        row2[0] = f'|{charr}|'\n",
    "    elif position_choice ==5:\n",
    "        row2[1] = f'|{charr}|'\n",
    "    elif position_choice ==6:\n",
    "        row2[2] = f'|{charr}|'\n",
    "    elif position_choice ==7:\n",
    "        row1[0] = f'|{charr}|'\n",
    "    elif position_choice ==8:\n",
    "        row1[1] = f'|{charr}|'\n",
    "    elif position_choice ==9:\n",
    "        row1[2] = f'|{charr}|'\n",
    "        return \n",
    "    \n",
    "def winner(row1,row2,row3,charr,playernum):\n",
    "    # winnerr = 'hie'\n",
    "    if row3 == [f'|{charr}|',f'|{charr}|',f'|{charr}|']:\n",
    "        winnerr = playernum\n",
    "    elif row2 == [f'|{charr}|',f'|{charr}|',f'|{charr}|']:\n",
    "        winnerr = playernum \n",
    "    elif row1 == [f'|{charr}|',f'|{charr}|',f'|{charr}|']:\n",
    "        winnerr = playernum   \n",
    "    elif row1[0] == f'|{charr}|' and row2[0] == f'|{charr}|' and row3[0] == f'|{charr}|':\n",
    "        winnerr = playernum\n",
    "    elif row1[1] == f'|{charr}|' and row2[1] == f'|{charr}|' and row3[1] == f'|{charr}|':\n",
    "        winnerr = playernum\n",
    "    elif row1[2] == f'|{charr}|' and row2[2] == f'|{charr}|' and row3[2] == f'|{charr}|':\n",
    "        winnerr = playernum\n",
    "    elif row1[0] == f'|{charr}|' and row2[1] == f'|{charr}|' and row3[2] == f'|{charr}|':\n",
    "        winnerr = playernum\n",
    "    elif row1[2] == f'|{charr}|' and row2[1] == f'|{charr}|' and row3[0] == f'|{charr}|':\n",
    "        winnerr = playernum\n",
    "    else:\n",
    "        winnerr = ''\n",
    "    return winnerr\n",
    "\n",
    "def gameon_choice2():  # prompt user input to continue playing or not\n",
    "    gameon_choice = 'wrong'\n",
    "    while gameon_choice not in ['Y','N','y','n']:\n",
    "        gameon_choice = input('Do you want to keep playing? (Y/N): ')\n",
    "        if gameon_choice not in ['Y','N','y','n']:\n",
    "            print('oops, not valid position')\n",
    "    if gameon_choice in ['Y','y']:\n",
    "        return True\n",
    "    else:\n",
    "        return False\n",
    "\n",
    "# main\n",
    "row1 = ['| |','| |','| |']\n",
    "row2 = ['| |','| |','| |']\n",
    "row3 = ['| |','| |','| |']  \n",
    "gameon = True\n",
    "player1 =  True\n",
    "winnerr = ''\n",
    "\n",
    "while gameon:\n",
    "        # display(row1, row2, row3)\n",
    "    if player1 == True:\n",
    "        charr = 'x'\n",
    "        playernum = 'player1'\n",
    "        print('player1: ')\n",
    "        pos_choice = user_input2()\n",
    "        updated_output2(charr,pos_choice,row1,row2,row3)\n",
    "        print(f'you chose position: {pos_choice}')\n",
    "        display(row1,row2,row3)\n",
    "        player1 = False\n",
    "    else:\n",
    "        charr = 'o'\n",
    "        playernum = 'player2'\n",
    "        print('player2: ')\n",
    "        pos_choice = user_input2()\n",
    "        updated_output2(charr,pos_choice,row1,row2,row3)\n",
    "        print(f'you chose position: {pos_choice}')\n",
    "        display(row1,row2,row3)\n",
    "        player1 = True\n",
    "    \n",
    "    if winner(row1,row2,row3, charr, playernum) == 'player1':\n",
    "        print('congrats player 1! you won!')\n",
    "        gameon = gameon_choice2()\n",
    "    elif winner(row1,row2,row3,charr,playernum) == 'player2':\n",
    "        print('congrats player 2! you won!')\n",
    "        gameon = gameon_choice2()\n",
    "    else:\n",
    "        pass\n",
    "\n",
    "# troublshoot\n",
    "# row1 = ['|x|','|o|','| |']\n",
    "# row2 = ['| |','|x|','| |']\n",
    "# row3 = ['| |','|o|','|x|']  \n",
    "# winner(row1,row2,row3)\n",
    "# if winner(row1,row2,row3) == 'player1':\n",
    "#         print('congrats player 1! you won!')\n",
    "#         gameon = gameon_choice2()\n",
    "# elif winner(row1,row2,row3) == 'player2':\n",
    "#     print('congrats player 2! you won!')\n",
    "#     gameon = gameon_choice2()\n",
    "# else:\n",
    "#     print('hi')"
   ]
  },
  {
   "cell_type": "code",
   "execution_count": null,
   "metadata": {},
   "outputs": [],
   "source": []
  }
 ],
 "metadata": {
  "kernelspec": {
   "display_name": "Python 3",
   "language": "python",
   "name": "python3"
  },
  "language_info": {
   "codemirror_mode": {
    "name": "ipython",
    "version": 3
   },
   "file_extension": ".py",
   "mimetype": "text/x-python",
   "name": "python",
   "nbconvert_exporter": "python",
   "pygments_lexer": "ipython3",
   "version": "3.11.0"
  },
  "orig_nbformat": 4,
  "vscode": {
   "interpreter": {
    "hash": "56dde0d177106c8dc6d06485c9f7e44adf25a9f07108d7699c0f9f1718bf44aa"
   }
  }
 },
 "nbformat": 4,
 "nbformat_minor": 2
}
