{
 "cells": [
  {
   "cell_type": "code",
   "execution_count": 143,
   "metadata": {},
   "outputs": [
    {
     "name": "stdout",
     "output_type": "stream",
     "text": [
      "hello john\n"
     ]
    }
   ],
   "source": [
    "# FUNCTIONS\n",
    "def name_function(name = 'default name'): # if value is empty, use default name\n",
    "    ''' \n",
    "    docstring: this function will greet (name)\n",
    "    '''\n",
    "    print('hello ' + name)\n",
    "\n",
    "name_function('john')"
   ]
  },
  {
   "cell_type": "code",
   "execution_count": 144,
   "metadata": {},
   "outputs": [
    {
     "name": "stdout",
     "output_type": "stream",
     "text": [
      "3\n"
     ]
    }
   ],
   "source": [
    "def add_function(num1,num2):\n",
    "    return num1+num2        # return allows to save result as variable\n",
    "\n",
    "result = add_function(1,2)\n",
    "print(result)"
   ]
  },
  {
   "cell_type": "code",
   "execution_count": 145,
   "metadata": {},
   "outputs": [],
   "source": [
    "def check_list(num_list):\n",
    "    '''\n",
    "    return list of even and odd numbers\n",
    "    '''\n",
    "    evenNums=[]     # placeholder for even numbers\n",
    "    oddNums =[]     # placeholder for odd numbers\n",
    "\n",
    "    for num in num_list:\n",
    "        if num%2 ==0:\n",
    "            evenNums.append(num)    # if even num, add to evenNums\n",
    "        else:\n",
    "            oddNums.append(num)     # else, add to oddNums\n",
    "    return f'even numbers are {evenNums}, odd numbers are {oddNums}'"
   ]
  },
  {
   "cell_type": "code",
   "execution_count": 146,
   "metadata": {},
   "outputs": [
    {
     "data": {
      "text/plain": [
       "'even numbers are [420, 2, 2], odd numbers are [1, 69, 1]'"
      ]
     },
     "execution_count": 146,
     "metadata": {},
     "output_type": "execute_result"
    }
   ],
   "source": [
    "check_list([1,69,420,2,2,1])"
   ]
  },
  {
   "cell_type": "code",
   "execution_count": 147,
   "metadata": {},
   "outputs": [],
   "source": [
    "emp_work_hours = [('abby',100),('billy',400),('cassie',800)]\n",
    "\n",
    "def emp_w_most_hours(emp_work_hours):\n",
    "    '''\n",
    "    return employee of the month (most hours)\n",
    "    '''\n",
    "    max_hours=0         # set at 0 to compare to first value\n",
    "    emp_of_month=''\n",
    "\n",
    "    for emp,hours in emp_work_hours: # tuple unpacking\n",
    "        if hours > max_hours:\n",
    "            max_hours = hours # placeholders first bc it is reassigned\n",
    "            emp_of_month = emp \n",
    "        else:\n",
    "            pass\n",
    "    return (emp_of_month,max_hours)"
   ]
  },
  {
   "cell_type": "code",
   "execution_count": 148,
   "metadata": {},
   "outputs": [
    {
     "data": {
      "text/plain": [
       "('cassie', 800)"
      ]
     },
     "execution_count": 148,
     "metadata": {},
     "output_type": "execute_result"
    }
   ],
   "source": [
    "emp_w_most_hours(emp_work_hours)"
   ]
  },
  {
   "cell_type": "code",
   "execution_count": 149,
   "metadata": {},
   "outputs": [
    {
     "name": "stdout",
     "output_type": "stream",
     "text": [
      "wrong!\n",
      "[' ', ' ', 'O']\n"
     ]
    }
   ],
   "source": [
    "# 3 CUP MONTE!!!!!\n",
    "\n",
    "def shuffle_list(mylist):       # def function to shuffle ball, but must pass mylist\n",
    "    from random import shuffle  # import shuffle lib   \n",
    "    shuffle(mylist)             # shuffle list\n",
    "    return mylist               # return the list to use later on\n",
    "\n",
    "def user_guess():               # def function for the user to make a guess\n",
    "    guess =''       # placeholder/ prompt while loop as null value\n",
    "    while guess not in ['0','1','2']:   # will loop if user guesses out of range\n",
    "        guess = input('pick a number 0,1, or 2')    # input guess\n",
    "    return int(guess)       # returns the guess as an int \n",
    "\n",
    "def check_list(mylist,guess):   # def function to validate if user was right\n",
    "    if mylist[guess] == 'O':    # indexing the guess \n",
    "        print('correct!')\n",
    "    else:\n",
    "        print('wrong!')\n",
    "        print(mylist)\n",
    "\n",
    "# INITIAL LIST\n",
    "mylist = [' ','O',' ']\n",
    "# SHUFFLE LIST\n",
    "mixedup_list = shuffle_list(mylist)\n",
    "# USER GUESS\n",
    "guess = user_guess()\n",
    "# CHECK LIST\n",
    "check_list(mixedup_list,guess)"
   ]
  },
  {
   "cell_type": "code",
   "execution_count": 150,
   "metadata": {},
   "outputs": [
    {
     "name": "stdout",
     "output_type": "stream",
     "text": [
      "you won!\n"
     ]
    }
   ],
   "source": [
    "# 3 cup monte \n",
    "def shuffled_cups(cups):\n",
    "    from random import shuffle\n",
    "    shuffle(cups)\n",
    "    return cups\n",
    "\n",
    "def users_guess():\n",
    "    guess = ' '\n",
    "    while guess not in ['0','1','2']:\n",
    "        guess = input('enter guess here: ')\n",
    "    return int(guess)\n",
    "\n",
    "def validation(shuffled_cupz,users_guesz):\n",
    "    if cups[guess] == 'O':\n",
    "        print('you won!')\n",
    "    else:\n",
    "        print('you lost! ')\n",
    "        print(cups)\n",
    "\n",
    "cups = [' ','O',' ']\n",
    "shuffled_cupz = shuffled_cups(cups)\n",
    "users_guesz = users_guess()\n",
    "validation(shuffled_cupz,users_guesz)\n"
   ]
  },
  {
   "cell_type": "code",
   "execution_count": 151,
   "metadata": {},
   "outputs": [
    {
     "data": {
      "text/plain": [
       "5.5"
      ]
     },
     "execution_count": 151,
     "metadata": {},
     "output_type": "execute_result"
    }
   ],
   "source": [
    "# *ARGS -- lets you use indefinte # of arguments withouthaving to define each\n",
    "def myfunc(*args):\n",
    "    # returns 5% of the sum of a and b\n",
    "    return sum((args))*.05\n",
    "\n",
    "myfunc(40,60,10)"
   ]
  },
  {
   "cell_type": "code",
   "execution_count": 152,
   "metadata": {},
   "outputs": [
    {
     "name": "stdout",
     "output_type": "stream",
     "text": [
      "{'fruit': 'strawberry', 'veggie': 'brocclii'}\n",
      "my fav fruit is strawberry\n",
      "my fav veggie is brocclii\n"
     ]
    }
   ],
   "source": [
    "# **Kwargs returns dictionary\n",
    "def myfunc(**kwargs):\n",
    "    print(kwargs)\n",
    "    if 'fruit' in kwargs:\n",
    "        print('my fav fruit is {}'.format(kwargs['fruit']))\n",
    "    if 'veggie' in kwargs:\n",
    "        print('my fav veggie is {}'.format(kwargs['veggie']))\n",
    "    else:\n",
    "        pass\n",
    "\n",
    "myfunc(fruit='strawberry',veggie='brocclii')"
   ]
  },
  {
   "cell_type": "code",
   "execution_count": 153,
   "metadata": {},
   "outputs": [
    {
     "name": "stdout",
     "output_type": "stream",
     "text": [
      "(10, 20, 30)\n",
      "{'food': 'breads', 'drink': 'tea'}\n",
      "I would like 10 breads\n"
     ]
    }
   ],
   "source": [
    "def myfunc(*args, **kwargs):\n",
    "    print(args)\n",
    "    print(kwargs)\n",
    "    print('I would like {} {}'.format(args[0],kwargs['food']))\n",
    "\n",
    "myfunc(10,20,30,food='breads', drink='tea')"
   ]
  },
  {
   "cell_type": "code",
   "execution_count": 154,
   "metadata": {},
   "outputs": [
    {
     "data": {
      "text/plain": [
       "[2, 4]"
      ]
     },
     "execution_count": 154,
     "metadata": {},
     "output_type": "execute_result"
    }
   ],
   "source": [
    "# def a func that takes in an arbitrary # of arguments, and returns a list containing only those arguments that are even\n",
    "\n",
    "def findEvenNums(*args):\n",
    "    evenList = []\n",
    "    for x in args:\n",
    "        if x%2==0:\n",
    "            evenList.append(x)\n",
    "        else:\n",
    "            pass\n",
    "    return evenList\n",
    "    \n",
    "findEvenNums(1,2,3,4)\n"
   ]
  },
  {
   "cell_type": "code",
   "execution_count": 625,
   "metadata": {},
   "outputs": [
    {
     "data": {
      "text/plain": [
       "'5 is the greater of the odd pair'"
      ]
     },
     "execution_count": 625,
     "metadata": {},
     "output_type": "execute_result"
    }
   ],
   "source": [
    "# def user_input():\n",
    "#     ''' \n",
    "#     user input func\n",
    "#     '''\n",
    "#     x = int(input('enter first number'))\n",
    "#     y = int(input('enter second number'))\n",
    "\n",
    "#     return (x,y)\n",
    "\n",
    "def func(x,y):\n",
    "    '''\n",
    "    if both even, find the lesser\n",
    "    if one odd, find the greater\n",
    "    '''\n",
    "  \n",
    "    if x%2 ==0 and y%2==0:       \n",
    "        if x<y:\n",
    "            return f'{x} is the lesser of the even pair'\n",
    "        else:\n",
    "            pass\n",
    "        return f'{y} is lesser of the even pair'\n",
    "    else:\n",
    "        if x>y:\n",
    "            return f'{x} is the greater of the odd pair'\n",
    "        else:\n",
    "            pass\n",
    "        return f'{y} is the greater of the odd pair'\n",
    "        \n",
    "\n",
    "# reg,dea = user_input()   \n",
    "func(5,4)   "
   ]
  },
  {
   "cell_type": "code",
   "execution_count": 626,
   "metadata": {},
   "outputs": [
    {
     "data": {
      "text/plain": [
       "10"
      ]
     },
     "execution_count": 626,
     "metadata": {},
     "output_type": "execute_result"
    }
   ],
   "source": [
    "# input ints (args) and if all even, find the min, if one odd, find the max\n",
    "\n",
    "def isEvenFunction(*args):\n",
    "        \n",
    "    minn=0\n",
    "    maxx=0\n",
    "    isEven = 1      # flag; even by default\n",
    "\n",
    "    for x in args:  # loop to flag each x as even or odd\n",
    "        if x%2==1:\n",
    "            isEven = 0      # odd\n",
    "                            # adding else would be redundant\n",
    "    for x in args:      # loop to use even/odd flag to find either even or odd\n",
    "        if isEven ==1:\n",
    "            minn=min(args)\n",
    "            return minn\n",
    "        else:\n",
    "            maxx =max(args)\n",
    "            pass\n",
    "        return maxx\n",
    "\n",
    "\n",
    "isEvenFunction(2,1,6,6,6,6,10)        "
   ]
  },
  {
   "cell_type": "code",
   "execution_count": 627,
   "metadata": {},
   "outputs": [
    {
     "data": {
      "text/plain": [
       "True"
      ]
     },
     "execution_count": 627,
     "metadata": {},
     "output_type": "execute_result"
    }
   ],
   "source": [
    "# write a function takes a two-word string and retruns True if both words begin with the same letter\n",
    "\n",
    "# def user_input():\n",
    "#     stringg = input('enter 2-word string: ')\n",
    "#     return stringg\n",
    "\n",
    "def string_conv_true(stringg):\n",
    "    ''' \n",
    "    func taking 2-word string w/ same 1st letter\n",
    "    '''\n",
    "    x,y = stringg.lower().split()       # assigning split words to x,y (lower first to match)\n",
    "    return x[0] == y[0]\n",
    "        \n",
    "\n",
    "# huh = user_input()\n",
    "string_conv_true('jon johnny')\n"
   ]
  },
  {
   "cell_type": "code",
   "execution_count": 628,
   "metadata": {},
   "outputs": [
    {
     "data": {
      "text/plain": [
       "True"
      ]
     },
     "execution_count": 628,
     "metadata": {},
     "output_type": "execute_result"
    }
   ],
   "source": [
    "# give 2 integers, retrun True if the sum of the ints is 20 or if one of the ints is 20. if not, return False\n",
    "\n",
    "# def user_input():\n",
    "#     x = int(input('enter 1st int'))\n",
    "#     y = int(input('enter 2nd int'))\n",
    "#     return x,y\n",
    "\n",
    "def func(x,y):\n",
    "    if sum((x,y)) == 20:\n",
    "        return True\n",
    "    elif x == 20 or y ==20:\n",
    "        return True\n",
    "    else:\n",
    "        return False\n",
    "\n",
    "# num1, num2 = user_input()\n",
    "func(1,20)"
   ]
  },
  {
   "cell_type": "code",
   "execution_count": 629,
   "metadata": {},
   "outputs": [
    {
     "data": {
      "text/plain": [
       "'MacDonald'"
      ]
     },
     "execution_count": 629,
     "metadata": {},
     "output_type": "execute_result"
    }
   ],
   "source": [
    "# OLD MACDONALD: code that capitalizes every 1st and 4th letter of a name\n",
    "\n",
    "# def input_name():\n",
    "#     namee = input(\"enter a name: \")\n",
    "#     return namee\n",
    "\n",
    "def capitalization(namee):\n",
    "    newname = []\n",
    "    for i in range(len(namee)):\n",
    "        if i == 0 or i == 3:        # ORRRR! not and bc and would be impossible\n",
    "            newname.append(namee[i].upper())\n",
    "        else:\n",
    "            newname.append(namee[i].lower())\n",
    "    return ''.join(newname)\n",
    "\n",
    "# name1 = input_name()\n",
    "capitalization('macdonald')"
   ]
  },
  {
   "cell_type": "code",
   "execution_count": 630,
   "metadata": {},
   "outputs": [
    {
     "data": {
      "text/plain": [
       "'RegGgggggie'"
      ]
     },
     "execution_count": 630,
     "metadata": {},
     "output_type": "execute_result"
    }
   ],
   "source": [
    "# OLD MCDONALD (solution assistance)\n",
    "# def input_name():\n",
    "#     namee = input(\"enter a name: \")\n",
    "#     return namee\n",
    "\n",
    "def capitalization(namee):\n",
    "\n",
    "    return namee[:3].capitalize() + namee[3:].capitalize()\n",
    "    # capitalize the first letter of the given range within the string, then concat w (+)\n",
    "    \n",
    "# a = input_name()\n",
    "capitalization('Regggggggie')"
   ]
  },
  {
   "cell_type": "code",
   "execution_count": 631,
   "metadata": {},
   "outputs": [
    {
     "data": {
      "text/plain": [
       "'hIiIiI'"
      ]
     },
     "execution_count": 631,
     "metadata": {},
     "output_type": "execute_result"
    }
   ],
   "source": [
    "# input \n",
    "def myfunc(x):\n",
    "    out = []\n",
    "    for i in range(len(x)):     # for i in 7 (loop 7x)\n",
    "        if i % 2 == 0:          # every even number\n",
    "            out.append(x[i].lower())    # index num to lowercase every even letter \n",
    "        else:\n",
    "            out.append(x[i].upper())    # index num to lowercase every other letter (odd) \n",
    "    return ''.join(out)     # joining as a str \n",
    "\n",
    "myfunc('hiiiii')"
   ]
  },
  {
   "cell_type": "code",
   "execution_count": 632,
   "metadata": {},
   "outputs": [
    {
     "data": {
      "text/plain": [
       "'friend hii hehehe'"
      ]
     },
     "execution_count": 632,
     "metadata": {},
     "output_type": "execute_result"
    }
   ],
   "source": [
    "# MASTER YODA: Given a sentence, return a sentence with the words reversed\n",
    "\n",
    "# def input_sentence():\n",
    "#     sentence = input('enter a sentence')\n",
    "#     return sentence\n",
    "\n",
    "def reverseIt(sentence):    # pass through the sentence\n",
    "    reversedd = []     # placeholder: turn string to list to use methods\n",
    "    \n",
    "    reversedd = sentence.split() # ['sen', 'sen', 'to', 'to']\n",
    "    reversedd.reverse()     # ['to', 'to', 'sen', 'sen']\n",
    "\n",
    "    return ' '.join(reversedd) # turning list back to string\n",
    "\n",
    "# sen = input_sentence()\n",
    "reverseIt('hehehe hii friend')"
   ]
  },
  {
   "cell_type": "code",
   "execution_count": 633,
   "metadata": {},
   "outputs": [
    {
     "data": {
      "text/plain": [
       "'reggg is name my'"
      ]
     },
     "execution_count": 633,
     "metadata": {},
     "output_type": "execute_result"
    }
   ],
   "source": [
    "# MASTER YOGA (solution assistance)\n",
    "# def input_sentence():\n",
    "#     sentence = input('enter a sentence')\n",
    "#     return sentence\n",
    "\n",
    "def reversedd(sentence):\n",
    "    splitsentence = sentence.split()\n",
    "    return ' '.join(splitsentence[::-1])\n",
    "\n",
    "# a = input_sentence()\n",
    "reversedd('my name is reggg')"
   ]
  },
  {
   "cell_type": "code",
   "execution_count": 634,
   "metadata": {},
   "outputs": [
    {
     "data": {
      "text/plain": [
       "True"
      ]
     },
     "execution_count": 634,
     "metadata": {},
     "output_type": "execute_result"
    }
   ],
   "source": [
    "# ALMOST THERE: given an integer n, return True if n is within 10 of either 100 or 200\n",
    "\n",
    "# def input_an_int():\n",
    "#     intt = int(input('input an int: '))\n",
    "#     return intt\n",
    "\n",
    "def validation(intt):\n",
    "    if intt>=90 and intt<=110 or intt>=190 and intt<=110:\n",
    "        return True\n",
    "    else:\n",
    "        return False\n",
    "\n",
    "# x = input_an_int()\n",
    "validation(109) "
   ]
  },
  {
   "cell_type": "code",
   "execution_count": 635,
   "metadata": {},
   "outputs": [
    {
     "data": {
      "text/plain": [
       "True"
      ]
     },
     "execution_count": 635,
     "metadata": {},
     "output_type": "execute_result"
    }
   ],
   "source": [
    "# ALMOST THEREUSING abs\n",
    "# abs is absolute value, so abs(100-101) is 1\n",
    "\n",
    "# def input_an_int():\n",
    "#     intt = int(input('input an int: '))\n",
    "#     return intt\n",
    "\n",
    "def validation(intt):\n",
    "    return (abs(100-intt) <=10) or (abs(200-intt) <=10) \n",
    "\n",
    "# a = input_an_int()\n",
    "validation(109)"
   ]
  },
  {
   "cell_type": "code",
   "execution_count": 636,
   "metadata": {},
   "outputs": [
    {
     "data": {
      "text/plain": [
       "True"
      ]
     },
     "execution_count": 636,
     "metadata": {},
     "output_type": "execute_result"
    }
   ],
   "source": [
    "# FIND 33: give a list of ints, return True if the array contains a 3 next to a 3 somewhere\n",
    "\n",
    "# def user_input():\n",
    "#     list_of_ints = int(input('enter list of input'))\n",
    "#     return list_of_ints\n",
    "\n",
    "def validation(list_of_ints):\n",
    "    # listt = []       # redundant if no user_input func\n",
    "    listt = list_of_ints\n",
    "        \n",
    "    for i in range(len(listt)-1):       # loop the amount of nums -1 bc we +1 in nested condition\n",
    "        if listt[i] == 3:\n",
    "            if listt[i] == listt[i+1]:\n",
    "                return True\n",
    "        \n",
    "    return False\n",
    "       \n",
    "validation([3,3,3,4,4])\n",
    "    "
   ]
  },
  {
   "cell_type": "code",
   "execution_count": 637,
   "metadata": {},
   "outputs": [
    {
     "data": {
      "text/plain": [
       "False"
      ]
     },
     "execution_count": 637,
     "metadata": {},
     "output_type": "execute_result"
    }
   ],
   "source": [
    "# FIND 33 pt2\n",
    "def has33(list):\n",
    "    for i in range(len(list)-1):\n",
    "        if list[i] ==3:\n",
    "            if list[i+1] ==3:\n",
    "                return True\n",
    "            else:\n",
    "                return False\n",
    "has33([3,1,3,0])\n"
   ]
  },
  {
   "cell_type": "code",
   "execution_count": 638,
   "metadata": {},
   "outputs": [
    {
     "data": {
      "text/plain": [
       "'HHHaaappppppyyy   bbbiiirrrttthhhdddaaayyy'"
      ]
     },
     "execution_count": 638,
     "metadata": {},
     "output_type": "execute_result"
    }
   ],
   "source": [
    "# PAPER DOLL\n",
    "# given a string, retrun a string where for every character in the original there are three characters\n",
    "\n",
    "# def input_string():\n",
    "#     stringg = input('enter string')\n",
    "#     return stringg\n",
    "\n",
    "def conversion(stringg):\n",
    "    newstring=[]\n",
    "\n",
    "    for i in range(len(stringg)):       # for each subscript in total # of letter in string\n",
    "        newstring.append(stringg[i]*3)      #multiplying index x3 and adding to list\n",
    "    return ''.join(newstring)       #turning list back to string\n",
    "        \n",
    "# x=input_string()\n",
    "conversion('Happy birthday')\n"
   ]
  },
  {
   "cell_type": "code",
   "execution_count": 639,
   "metadata": {},
   "outputs": [
    {
     "data": {
      "text/plain": [
       "'hhheeeyyyfffrrreeeddd'"
      ]
     },
     "execution_count": 639,
     "metadata": {},
     "output_type": "execute_result"
    }
   ],
   "source": [
    "# PAPER DOLL\n",
    "def conversion(string):\n",
    "    newstring = ''\n",
    "    for i in string:\n",
    "        newstring += i*3 # newstring = newstring concated(+) char*3\n",
    "    return newstring \n",
    "conversion('heyfred')"
   ]
  },
  {
   "cell_type": "code",
   "execution_count": 640,
   "metadata": {},
   "outputs": [
    {
     "name": "stdout",
     "output_type": "stream",
     "text": [
      "[1, 4, 3]\n"
     ]
    },
    {
     "data": {
      "text/plain": [
       "8"
      ]
     },
     "execution_count": 640,
     "metadata": {},
     "output_type": "execute_result"
    }
   ],
   "source": [
    "# BLACKJACK: Given three integers between 1 and 11, if their sum is less than or equal to 21,\n",
    "# return their sum. if their sum exceeds 21 and theres and 11, reduce the total sum by 10.\n",
    "# finally, if the sum (even after adjustment) exceeds 21, return 'BUST'\n",
    "\n",
    "def deckgenerator():\n",
    "    from random import randint\n",
    "    num1 = randint(1,11)\n",
    "    num2 = randint(1,11)\n",
    "    num3 = randint(1,11)\n",
    "    deck = [num1,num2,num3]\n",
    "    return deck\n",
    "\n",
    "def blackjacks(deck):\n",
    "    sumofdeck = sum(deck)\n",
    "    i =0\n",
    "    \n",
    "    # if sumofdeck >21:\n",
    "    while sumofdeck > 21:\n",
    "\n",
    "        if i >= len(deck):      # so we can stop the loop before checking other conditions\n",
    "            return 'bust'          # if we reached the last iteration, and \n",
    "        elif deck[i] ==11:      # changing 11 -> 1 if sumofdeck > 21\n",
    "            sumofdeck -= 10\n",
    "        i+=1 \n",
    "        \n",
    "    return sumofdeck    \n",
    "                  \n",
    "# blackjacks([2,2,3,3,3])\n",
    "aa=deckgenerator()\n",
    "print(aa)\n",
    "blackjacks(aa)\n"
   ]
  },
  {
   "cell_type": "code",
   "execution_count": 641,
   "metadata": {},
   "outputs": [
    {
     "data": {
      "text/plain": [
       "9"
      ]
     },
     "execution_count": 641,
     "metadata": {},
     "output_type": "execute_result"
    }
   ],
   "source": [
    "# SUMMER OF '69 SOLUTION: return the sum of the numbers in the array, except ignore sections of numbers starting with a 6 \n",
    "# and extending to the next 9 (every 6 will be followed by atleast one 9)\n",
    "\n",
    "def summer(list69):\n",
    "    \n",
    "    total = 0\n",
    "    flag = True     # while flags will only execute if True\n",
    "\n",
    "    for num in list69:\n",
    "        while flag:             # flag switch to true\n",
    "            if num !=6:\n",
    "                total+=num      # add nums to total before reaching 6\n",
    "                break           # terminates while loop to start next iteration in for loop\n",
    "            else:\n",
    "                flag = False    # when 6,flag switch to false -> preventing 'while flag' from working\n",
    "        while not flag:         # w/ flag= false, while not flag = True, so this loop will work\n",
    "            if num !=9:\n",
    "                break\n",
    "            else:\n",
    "                flag = True     # after 9 is reached, flag sitches to true, repeating the for loop\n",
    "                break\n",
    "    return total\n",
    "\n",
    "summer([4,5,6,7,8,9])"
   ]
  },
  {
   "cell_type": "code",
   "execution_count": 642,
   "metadata": {},
   "outputs": [
    {
     "data": {
      "text/plain": [
       "True"
      ]
     },
     "execution_count": 642,
     "metadata": {},
     "output_type": "execute_result"
    }
   ],
   "source": [
    "# SPY GAME: write a function that takes in a list of integers and returns True if it contains 007 in order\n",
    "\n",
    "# loop to iterate nums in list\n",
    "# identifying 0\n",
    "    # identifying 0\n",
    "        # identifying 7\n",
    "            # return True\n",
    "\n",
    "#  spy_game([1,2,4,0,0,7,5]) --> True\n",
    "#  spy_game([1,0,2,4,0,5,7]) --> True\n",
    "#  spy_game([1,7,2,0,4,5,0]) --> False\n",
    "\n",
    "def spygame(list):\n",
    "    flag1 = True\n",
    "    flag2 = False\n",
    "    flag3 = False\n",
    "\n",
    "    for num in list:\n",
    "        while flag1:\n",
    "            if num != 0:\n",
    "                break\n",
    "            else:\n",
    "                flag1 = False\n",
    "                flag2 = True\n",
    "        while flag2:\n",
    "            if num != 0:\n",
    "                break\n",
    "            else:\n",
    "                flag2 = False\n",
    "                flag3 = True\n",
    "        while flag3:\n",
    "            if num !=7:\n",
    "                break\n",
    "            else:\n",
    "                return True\n",
    "    return False\n",
    "\n",
    "spygame([1,2,4,0,0,7,5])"
   ]
  },
  {
   "cell_type": "code",
   "execution_count": 643,
   "metadata": {},
   "outputs": [],
   "source": [
    "# SPYGAME SOLUTIONL:\n",
    "\n",
    "def spy_game(nums):\n",
    "\n",
    "    code = [0,0,7,'x']\n",
    "    \n",
    "    for num in nums:\n",
    "        if num == code[0]:  # comparing each num\n",
    "            code.pop(0)     # removing 007 in order\n",
    "       \n",
    "    return len(code) == 1   # will return false if 007 hasnt been popped from code"
   ]
  },
  {
   "cell_type": "code",
   "execution_count": 644,
   "metadata": {},
   "outputs": [
    {
     "data": {
      "text/plain": [
       "6"
      ]
     },
     "execution_count": 644,
     "metadata": {},
     "output_type": "execute_result"
    }
   ],
   "source": [
    "# COUNT PRIMES (in progress): write a function that returns the number of prime numbers that exists up to and including a given number\n",
    "# from math import trunc \n",
    "def is_prime(potential_prime):  # testing if num is prime\n",
    "    for i in range(2,potential_prime-1):    # for loop to find if num has factors\n",
    "        if potential_prime%i==0:        # dividing num by each i. if remainder is 0, means that it has factors\n",
    "            return False\n",
    "    return True\n",
    "\n",
    "def counting_primes_of(num):\n",
    "    total_primes = 0\n",
    "    for potential_prime in range(2,num):\n",
    "        if is_prime(potential_prime) == True:\n",
    "            total_primes +=1\n",
    "    return total_primes\n",
    "\n",
    "counting_primes_of(15)\n"
   ]
  },
  {
   "cell_type": "code",
   "execution_count": 645,
   "metadata": {},
   "outputs": [
    {
     "name": "stdout",
     "output_type": "stream",
     "text": [
      "1\n",
      "4\n",
      "9\n",
      "16\n",
      "25\n"
     ]
    },
    {
     "data": {
      "text/plain": [
       "['even', 's', 'e']"
      ]
     },
     "execution_count": 645,
     "metadata": {},
     "output_type": "execute_result"
    }
   ],
   "source": [
    "# MAP FUNC with int \n",
    "# applied a func\n",
    "def square(num):\n",
    "    return num **2\n",
    "my_nums=[1,2,3,4,5]\n",
    "for item in map(square,my_nums):\n",
    "    print(item)\n",
    "\n",
    "# map with string\n",
    "def splicer(names):\n",
    "    if len(names)%2==0:\n",
    "        return 'even'\n",
    "    else:\n",
    "        return names[0]\n",
    "names = ['john','sally','eve']  # dont have to use split() or loop to iterate\n",
    "list(map(splicer,names))"
   ]
  },
  {
   "cell_type": "code",
   "execution_count": 646,
   "metadata": {},
   "outputs": [
    {
     "data": {
      "text/plain": [
       "[2, 4, 6]"
      ]
     },
     "execution_count": 646,
     "metadata": {},
     "output_type": "execute_result"
    }
   ],
   "source": [
    "# filter will filter based off func condition\n",
    "def check_even(num):\n",
    "    return num%2==0\n",
    "num = [1,2,3,4,5,6]\n",
    "list(filter(check_even,num))"
   ]
  },
  {
   "cell_type": "code",
   "execution_count": 647,
   "metadata": {},
   "outputs": [
    {
     "data": {
      "text/plain": [
       "['nhoj', 'yllas', 'eve']"
      ]
     },
     "execution_count": 647,
     "metadata": {},
     "output_type": "execute_result"
    }
   ],
   "source": [
    "# LAMBDA FUNCTION: 'anonymous function' bc usually used only one time\n",
    "# for simple expressions, not complex functions\n",
    "num = [1,2,3,4,5,6]\n",
    "\n",
    "# def square(num): return num **2\n",
    "# list(map(square,num))\n",
    "\n",
    "lambdafunc = lambda num: num **2\n",
    "list(map(lambdafunc,num))\n",
    "# no define nor return\n",
    "\n",
    "list(map(lambda x:x[::-1],names))"
   ]
  },
  {
   "cell_type": "code",
   "execution_count": 648,
   "metadata": {},
   "outputs": [
    {
     "data": {
      "text/plain": [
       "<function print(*args, sep=' ', end='\\n', file=None, flush=False)>"
      ]
     },
     "execution_count": 648,
     "metadata": {},
     "output_type": "execute_result"
    }
   ],
   "source": [
    "# LEGB Rule\n",
    "# L: Local - names assigned in any way within a function (def or lambda), and not declared global in that func\n",
    "# E: Enclosing function locals - names in the local scope of any and all envlosing functions (def or lambda), from inner to outer\n",
    "# G: Global - names assigned at the top-level of a module file, or declared global in a def within the file\n",
    "# B: Built-in (python) - names preassigned in the built-in names module : open, range, SyntaxError,...\n",
    "x=25\n",
    "def printer(x):\n",
    "    x=50\n",
    "    return x\n",
    "print"
   ]
  },
  {
   "cell_type": "code",
   "execution_count": 649,
   "metadata": {},
   "outputs": [],
   "source": [
    "# Functions and Methods Homework"
   ]
  },
  {
   "cell_type": "code",
   "execution_count": 650,
   "metadata": {},
   "outputs": [
    {
     "data": {
      "text/plain": [
       "33.49333333333333"
      ]
     },
     "execution_count": 650,
     "metadata": {},
     "output_type": "execute_result"
    }
   ],
   "source": [
    "# Write a function that computes the volume of a sphere given its radius\n",
    "# (4/3)(pi)(r**3)\n",
    "\n",
    "import math\n",
    "# you could also use math.pi as pi\n",
    "\n",
    "def volume(rad):\n",
    "    vol = (4/3)*(3.14)*(rad**3)\n",
    "    return vol\n",
    "\n",
    "volume(2)"
   ]
  },
  {
   "cell_type": "code",
   "execution_count": 651,
   "metadata": {},
   "outputs": [
    {
     "data": {
      "text/plain": [
       "False"
      ]
     },
     "execution_count": 651,
     "metadata": {},
     "output_type": "execute_result"
    }
   ],
   "source": [
    "# write a function that checks whether a number is in a given range (inclusive of high and low)\n",
    "\n",
    "def high_or_low(num,low,high):\n",
    "    rangee = range(low,high)\n",
    "    return num in rangee\n",
    "high_or_low(1,2,7)"
   ]
  },
  {
   "cell_type": "code",
   "execution_count": 652,
   "metadata": {},
   "outputs": [
    {
     "name": "stdout",
     "output_type": "stream",
     "text": [
      "4\n",
      "33\n"
     ]
    }
   ],
   "source": [
    "# write a python function that accepts a string and calculates the number of upper case letters \n",
    "# andlower case letters\n",
    "\n",
    "def calculation(stringg):\n",
    "    uppers = 0\n",
    "    lowers = 0\n",
    "    for word in stringg.split():    \n",
    "        for letter in word:\n",
    "            if letter.isupper():\n",
    "                uppers +=1\n",
    "            elif letter.islower():\n",
    "                lowers +=1\n",
    "    print(uppers)\n",
    "    print(lowers)\n",
    "\n",
    "calculation('Hello Mr. Rogers, how are you this fine Tuesday?')"
   ]
  },
  {
   "cell_type": "code",
   "execution_count": 653,
   "metadata": {},
   "outputs": [
    {
     "data": {
      "text/plain": [
       "[1, 2, 3]"
      ]
     },
     "execution_count": 653,
     "metadata": {},
     "output_type": "execute_result"
    }
   ],
   "source": [
    "# write a python function to \n",
    "\n",
    "def unique_list(listt):\n",
    "    new_set = set(listt)\n",
    "    new_list = list(new_set)\n",
    "    return new_list\n",
    "\n",
    "unique_list([1,1,1,1,2,2,2,2,3,3,3,3])"
   ]
  },
  {
   "cell_type": "code",
   "execution_count": 654,
   "metadata": {},
   "outputs": [
    {
     "data": {
      "text/plain": [
       "-24"
      ]
     },
     "execution_count": 654,
     "metadata": {},
     "output_type": "execute_result"
    }
   ],
   "source": [
    "# write a python function to multiply all the numbers in a list\n",
    "\n",
    "def mult_result(listt):\n",
    "    resultt = 1\n",
    "    for num in listt:\n",
    "        resultt *= num\n",
    "    return resultt\n",
    "mult_result([1,2,3,-4])\n",
    "\n"
   ]
  },
  {
   "cell_type": "code",
   "execution_count": 655,
   "metadata": {},
   "outputs": [
    {
     "data": {
      "text/plain": [
       "True"
      ]
     },
     "execution_count": 655,
     "metadata": {},
     "output_type": "execute_result"
    }
   ],
   "source": [
    "# write a python function that checks whether a word or phrase is a palindrome or not\n",
    "\n",
    "def palindromes(phrase_or_word):\n",
    "    for i in phrase_or_word.split():\n",
    "        return i[::-1] == i[::]\n",
    "    \n",
    "palindromes('helleh')\n"
   ]
  },
  {
   "cell_type": "code",
   "execution_count": 656,
   "metadata": {},
   "outputs": [
    {
     "data": {
      "text/plain": [
       "True"
      ]
     },
     "execution_count": 656,
     "metadata": {},
     "output_type": "execute_result"
    }
   ],
   "source": [
    "# write a functio to check whether a string is a pangram or not. \n",
    "# (assume the string passed in does not have any punctuation)\n",
    "alpha = 'abcdefghijklmnopqrstuvwxyz'\n",
    "\n",
    "def is_pan(string):\n",
    "    joined = (set(string.lower().replace(' ','')))      # set = sort, unique/ .lower() \n",
    "   \n",
    "    return joined == set(alpha) \n",
    "    \n",
    "is_pan(\"The quick brown fox jumps over the lazy dog\")"
   ]
  }
 ],
 "metadata": {
  "kernelspec": {
   "display_name": "Python 3",
   "language": "python",
   "name": "python3"
  },
  "language_info": {
   "codemirror_mode": {
    "name": "ipython",
    "version": 3
   },
   "file_extension": ".py",
   "mimetype": "text/x-python",
   "name": "python",
   "nbconvert_exporter": "python",
   "pygments_lexer": "ipython3",
   "version": "3.11.0"
  },
  "orig_nbformat": 4,
  "vscode": {
   "interpreter": {
    "hash": "56dde0d177106c8dc6d06485c9f7e44adf25a9f07108d7699c0f9f1718bf44aa"
   }
  }
 },
 "nbformat": 4,
 "nbformat_minor": 2
}
