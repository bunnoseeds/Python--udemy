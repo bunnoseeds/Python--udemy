{
 "cells": [
  {
   "cell_type": "code",
   "execution_count": 341,
   "metadata": {},
   "outputs": [
    {
     "data": {
      "text/plain": [
       "int"
      ]
     },
     "execution_count": 341,
     "metadata": {},
     "output_type": "execute_result"
    }
   ],
   "source": [
    "a = 1\n",
    "type(a)\n",
    "# type() will display data type\n"
   ]
  },
  {
   "cell_type": "code",
   "execution_count": 342,
   "metadata": {},
   "outputs": [
    {
     "name": "stdout",
     "output_type": "stream",
     "text": [
      "hi, i'm john\n"
     ]
    }
   ],
   "source": [
    "words = \"hi, i'm john\"\n",
    "print(words)\n",
    "# print() will print output"
   ]
  },
  {
   "cell_type": "code",
   "execution_count": 343,
   "metadata": {},
   "outputs": [
    {
     "name": "stdout",
     "output_type": "stream",
     "text": [
      "0.1\n"
     ]
    }
   ],
   "source": [
    "my_income = 100\n",
    "tax_rate = 0.1\n",
    "my_taxes = my_income * tax_rate\n",
    "print(tax_rate)"
   ]
  },
  {
   "cell_type": "code",
   "execution_count": 344,
   "metadata": {},
   "outputs": [
    {
     "name": "stdout",
     "output_type": "stream",
     "text": [
      "a\n",
      "k\n",
      "efghijk\n",
      "abcd\n",
      "adgj\n",
      "ceg\n",
      "kjihgfedcba\n",
      "11\n"
     ]
    }
   ],
   "source": [
    "# INDEXING AND SLICING WITH STRINGS\n",
    "string1 = 'abcdefghijk'\n",
    "print(string1[0])\n",
    "# find the first letter of the string, but must use square brackets\n",
    "print(string1[-1])\n",
    "# find the last letter of the string\n",
    "print(string1[4:])\n",
    "# finding 4th char of string, and finding what follows after\n",
    "print(string1[:4])\n",
    "# starting at 4th char of string, finding what follows before\n",
    "print(string1[::3])\n",
    "# :: means first to last but the 3 means every 3rd char (step size of 3)\n",
    "print(string1[2:7:2])\n",
    "# starting at 2nd char, stops at 7th char, and step size of 2\n",
    "print(string1[::-1])\n",
    "# reversing the string\n",
    "print(len(string1))\n",
    "# len() will find the length of the string"
   ]
  },
  {
   "cell_type": "code",
   "execution_count": 345,
   "metadata": {},
   "outputs": [
    {
     "name": "stdout",
     "output_type": "stream",
     "text": [
      "Sam\n",
      "Pam\n"
     ]
    }
   ],
   "source": [
    "# immutability: cannot mutate, cannot change\n",
    "# strings are immutable\n",
    "# therefore you must use string CONCATENATION\n",
    "# objective: trying to change the string \"sam\" to \"pam\"\n",
    "name = \"Sam\"\n",
    "print(name)\n",
    "last_letters =  name[1:]\n",
    "print(\"P\" + last_letters)"
   ]
  },
  {
   "cell_type": "code",
   "execution_count": 346,
   "metadata": {},
   "outputs": [
    {
     "name": "stdout",
     "output_type": "stream",
     "text": [
      "HELLO WORLD\n",
      "hello world\n",
      "['Hello', 'World']\n",
      "['Hell', ' W', 'rld']\n"
     ]
    }
   ],
   "source": [
    "# METHODS\n",
    "x = \"Hello World\"\n",
    "print(x.upper())\n",
    "# upper() will make chars in string uppercase\n",
    "print(x.lower())\n",
    "# lower() will make chars in string lowercase\n",
    "print(x.split())\n",
    "# split() will split strings based off whitespace (by default) and create list \n",
    "print(x.split('o'))\n",
    "# splitting based off the letter 'o'"
   ]
  },
  {
   "cell_type": "code",
   "execution_count": 347,
   "metadata": {},
   "outputs": [
    {
     "name": "stdout",
     "output_type": "stream",
     "text": [
      "This is a string INSERTED\n",
      "the fox brown quick\n",
      "the quick brown fox\n",
      "the quick blue fox\n"
     ]
    }
   ],
   "source": [
    "# PRINT FORMATTING WITH STRINGS\n",
    "print('This is a string {}'.format('INSERTED'))\n",
    "print('the {} {} {}'.format('fox','brown','quick'))\n",
    "print('the {2} {1} {0}'.format('fox','brown','quick'))\n",
    "print('the {q} {b} {f}'.format(f='fox',b='blue',q='quick'))"
   ]
  },
  {
   "cell_type": "code",
   "execution_count": 348,
   "metadata": {},
   "outputs": [
    {
     "name": "stdout",
     "output_type": "stream",
     "text": [
      "the result was 0.1287001287001287\n",
      "the result was 0.1287001287001287\n",
      "the result was 0.129\n"
     ]
    }
   ],
   "source": [
    "# PRINT FORMATTING with floats\n",
    "# for CONCATTENATION\n",
    "result = 100/777\n",
    "print(\"the result was {}\".format(result))\n",
    "print(\"the result was {r}\".format(r=result))\n",
    "print(\"the result was {r:1.3f}\".format(r=result))\n",
    "# {value:width.precision f}\n",
    "# width being the amount of space string has"
   ]
  },
  {
   "cell_type": "code",
   "execution_count": 349,
   "metadata": {},
   "outputs": [
    {
     "name": "stdout",
     "output_type": "stream",
     "text": [
      "hello, his name is Sam\n",
      "Sam is 3 years old\n"
     ]
    }
   ],
   "source": [
    "# F string or formatted string literals\n",
    "# new method of formatting\n",
    "name1 = \"Jose\"\n",
    "print(f\"hello, his name is {name}\")\n",
    "name2 = \"Sam\"\n",
    "age2 = 3\n",
    "print(f'{name2} is {age2} years old')"
   ]
  },
  {
   "cell_type": "code",
   "execution_count": 350,
   "metadata": {},
   "outputs": [
    {
     "name": "stdout",
     "output_type": "stream",
     "text": [
      "['ONE', 2, 3, 'string', 23, 0.2]\n",
      "['ONE', 2, 3, 'string', 23, 0.2, 'six']\n",
      "['ONE', 2, 3, 'string', 23, 0.2]\n",
      "six\n"
     ]
    }
   ],
   "source": [
    "# LISTS (append and pop)\n",
    "my_list = [1,2,3]\n",
    "my_list2 = ['string',23,0.2]\n",
    "new_list = my_list + my_list2\n",
    "new_list[0] = 'ONE'\n",
    "# changing 1 to ONE\n",
    "print(new_list)\n",
    "new_list.append('six')\n",
    "# adds another items at end of list\n",
    "print(new_list)\n",
    "popped_item = new_list.pop()\n",
    "# removes the last item by default unless specified\n",
    "# setting a variable to tell you which item was removed\n",
    "print(new_list)\n",
    "print(popped_item)\n"
   ]
  },
  {
   "cell_type": "code",
   "execution_count": 351,
   "metadata": {},
   "outputs": [
    {
     "name": "stdout",
     "output_type": "stream",
     "text": [
      "['a', 'b', 'c', 'e', 'x']\n",
      "The sorted num_list is [1, 2, 2, 2, 3, 5, 7, 11] \n",
      "\n",
      "The reversed sorted num_list is [11, 7, 5, 3, 2, 2, 2, 1] \n",
      "\n"
     ]
    }
   ],
   "source": [
    "# LISTS (sort and reverse)\n",
    "x_list = ['a','e','x','b','c']\n",
    "num_list = [1,5,2,3,7,11,2,2]\n",
    "x_list.sort()\n",
    "num_list.sort()\n",
    "# sorts list in order\n",
    "print(x_list)\n",
    "print(f'The sorted num_list is {num_list} \\n')\n",
    "num_list.reverse()\n",
    "# reverses whatever order the list is in\n",
    "print(f'The reversed sorted num_list is {num_list} \\n')\n"
   ]
  }
 ],
 "metadata": {
  "kernelspec": {
   "display_name": "Python 3",
   "language": "python",
   "name": "python3"
  },
  "language_info": {
   "codemirror_mode": {
    "name": "ipython",
    "version": 3
   },
   "file_extension": ".py",
   "mimetype": "text/x-python",
   "name": "python",
   "nbconvert_exporter": "python",
   "pygments_lexer": "ipython3",
   "version": "3.11.0"
  },
  "orig_nbformat": 4,
  "vscode": {
   "interpreter": {
    "hash": "56dde0d177106c8dc6d06485c9f7e44adf25a9f07108d7699c0f9f1718bf44aa"
   }
  }
 },
 "nbformat": 4,
 "nbformat_minor": 2
}
