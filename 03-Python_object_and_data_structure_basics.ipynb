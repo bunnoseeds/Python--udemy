{
 "cells": [
  {
   "cell_type": "code",
   "execution_count": null,
   "metadata": {},
   "outputs": [],
   "source": [
    "# **THIS IS NOT MY ORIGINAL DATA, used solutions for assistance as needed\n",
    "# ** UDEMY IS RESPONSIBLE\n",
    "# COURSE: The Complete Python Bootcamp: From Zero to Hero\n",
    "# by Jose Portilla"
   ]
  },
  {
   "cell_type": "code",
   "execution_count": 875,
   "metadata": {},
   "outputs": [
    {
     "data": {
      "text/plain": [
       "int"
      ]
     },
     "execution_count": 875,
     "metadata": {},
     "output_type": "execute_result"
    }
   ],
   "source": [
    "a = 1\n",
    "type(a)\n",
    "# type() will display data type\n"
   ]
  },
  {
   "cell_type": "code",
   "execution_count": 876,
   "metadata": {},
   "outputs": [
    {
     "name": "stdout",
     "output_type": "stream",
     "text": [
      "hi, i'm john\n"
     ]
    }
   ],
   "source": [
    "words = \"hi, i'm john\"\n",
    "print(words)\n",
    "# print() will print output"
   ]
  },
  {
   "cell_type": "code",
   "execution_count": 877,
   "metadata": {},
   "outputs": [
    {
     "name": "stdout",
     "output_type": "stream",
     "text": [
      "0.1\n"
     ]
    }
   ],
   "source": [
    "my_income = 100\n",
    "tax_rate = 0.1\n",
    "my_taxes = my_income * tax_rate\n",
    "print(tax_rate)"
   ]
  },
  {
   "cell_type": "code",
   "execution_count": 878,
   "metadata": {},
   "outputs": [
    {
     "name": "stdout",
     "output_type": "stream",
     "text": [
      "a\n",
      "k\n",
      "efghijk\n",
      "abcd\n",
      "adgj\n",
      "ceg\n",
      "kjihgfedcba\n",
      "11\n"
     ]
    }
   ],
   "source": [
    "# INDEXING AND SLICING WITH STRINGS\n",
    "string1 = 'abcdefghijk'\n",
    "print(string1[0])\n",
    "# find the first letter of the string, but must use square brackets\n",
    "print(string1[-1])\n",
    "# find the last letter of the string\n",
    "print(string1[4:])\n",
    "# finding 4th char of string, and finding what follows after \n",
    "print(string1[:4])\n",
    "# starting at 4th char , finding what follows before / or first 4 chars in order\n",
    "print(string1[::3])\n",
    "# :: means first to last but the 3 means every 3rd char (step size of 3)\n",
    "print(string1[2:7:2])\n",
    "# starting at 2nd char, stops at 7th char, and step size of 2\n",
    "print(string1[::-1])\n",
    "# reversing the string\n",
    "print(len(string1))\n",
    "# len() will find the length of the string"
   ]
  },
  {
   "cell_type": "code",
   "execution_count": 879,
   "metadata": {},
   "outputs": [
    {
     "name": "stdout",
     "output_type": "stream",
     "text": [
      "Sam\n",
      "Pam\n"
     ]
    }
   ],
   "source": [
    "# immutability: cannot mutate, cannot change\n",
    "# strings are immutable\n",
    "# therefore you must use string CONCATENATION\n",
    "# objective: trying to change the string \"sam\" to \"pam\"\n",
    "name = \"Sam\"\n",
    "print(name)\n",
    "last_letters =  name[1:]\n",
    "print(\"P\" + last_letters)"
   ]
  },
  {
   "cell_type": "code",
   "execution_count": 880,
   "metadata": {},
   "outputs": [
    {
     "name": "stdout",
     "output_type": "stream",
     "text": [
      "HELLO WORLD\n",
      "hello world\n",
      "['Hello', 'World']\n",
      "['Hell', ' W', 'rld']\n"
     ]
    }
   ],
   "source": [
    "# .METHODS()\n",
    "x = \"Hello World\"\n",
    "print(x.upper())\n",
    "# upper() will make chars in string uppercase\n",
    "print(x.lower())\n",
    "# lower() will make chars in string lowercase\n",
    "print(x.split())\n",
    "# split() will split strings based off whitespace (by default) and create list \n",
    "print(x.split('o'))\n",
    "# splitting based off the letter 'o'"
   ]
  },
  {
   "cell_type": "code",
   "execution_count": 881,
   "metadata": {},
   "outputs": [
    {
     "name": "stdout",
     "output_type": "stream",
     "text": [
      "This is a string INSERTED\n",
      "the fox brown quick\n",
      "the quick brown fox\n",
      "the quick blue fox\n"
     ]
    }
   ],
   "source": [
    "# PRINT FORMATTING WITH STRINGS\n",
    "print('This is a string {}'.format('INSERTED'))\n",
    "print('the {} {} {}'.format('fox','brown','quick'))\n",
    "print('the {2} {1} {0}'.format('fox','brown','quick'))\n",
    "print('the {q} {b} {f}'.format(f='fox',b='blue',q='quick'))"
   ]
  },
  {
   "cell_type": "code",
   "execution_count": 882,
   "metadata": {},
   "outputs": [
    {
     "name": "stdout",
     "output_type": "stream",
     "text": [
      "the result was 0.1287001287001287\n",
      "the result was 0.1287001287001287\n",
      "the result was 0.129\n"
     ]
    }
   ],
   "source": [
    "# PRINT FORMATTING with floats\n",
    "# for CONCATTENATION\n",
    "result = 100/777\n",
    "print(\"the result was {}\".format(result))\n",
    "print(\"the result was {r}\".format(r=result))\n",
    "print(\"the result was {r:1.3f}\".format(r=result))\n",
    "# {value:width.precision f}\n",
    "# width being the amount of space string has"
   ]
  },
  {
   "cell_type": "code",
   "execution_count": 883,
   "metadata": {},
   "outputs": [
    {
     "name": "stdout",
     "output_type": "stream",
     "text": [
      "hello, his name is Sam\n",
      "Sam is 3 years old\n"
     ]
    }
   ],
   "source": [
    "# F string or formatted string literals\n",
    "# new method of formatting\n",
    "name1 = \"Jose\"\n",
    "print(f\"hello, his name is {name}\")\n",
    "name2 = \"Sam\"\n",
    "age2 = 3\n",
    "print(f'{name2} is {age2} years old')"
   ]
  },
  {
   "cell_type": "code",
   "execution_count": 1,
   "metadata": {},
   "outputs": [
    {
     "name": "stdout",
     "output_type": "stream",
     "text": [
      "['ONE', 2, 3, 'string', 23, 0.2]\n",
      "['ONE', 2, 3, 'string', 23, 0.2, 'six']\n",
      "['ONE', 2, 3, 'string', 23, 0.2]\n",
      "the value, 'six', was popped from the list\n"
     ]
    }
   ],
   "source": [
    "# LISTS (append and pop)\n",
    "# lists can be indexed or sliced (mutable)\n",
    "my_list = [1,2,3]\n",
    "my_list2 = ['string',23,0.2]\n",
    "new_list = my_list + my_list2\n",
    "new_list[0] = 'ONE'\n",
    "# changing 1 to ONE\n",
    "print(new_list)\n",
    "new_list.append('six')\n",
    "# adds another items at end of list\n",
    "print(new_list)\n",
    "popped_item = new_list.pop()\n",
    "# removes the last item by default unless specified\n",
    "# setting a variable to tell you which item was removed\n",
    "print(new_list)\n",
    "print(\"the value, '{}', was popped from the list\".format(popped_item))\n"
   ]
  },
  {
   "cell_type": "code",
   "execution_count": 2,
   "metadata": {},
   "outputs": [
    {
     "name": "stdout",
     "output_type": "stream",
     "text": [
      "['a', 'b', 'c', 'e', 'x']\n",
      "The sorted num_list is [1, 2, 2, 2, 3, 5, 7, 11] \n",
      "\n",
      "The reversed sorted num_list is [11, 7, 5, 3, 2, 2, 2, 1] \n",
      "\n"
     ]
    }
   ],
   "source": [
    "# LISTS (sort and reverse)\n",
    "x_list = ['a','e','x','b','c']\n",
    "num_list = [1,5,2,3,7,11,2,2]\n",
    "x_list.sort()\n",
    "num_list.sort()\n",
    "# sorts list in order\n",
    "print(x_list)\n",
    "print(f'The sorted num_list is {num_list} \\n')\n",
    "num_list.reverse()\n",
    "# reverses whatever order the list is in\n",
    "print(f'The reversed sorted num_list is {num_list} \\n')\n"
   ]
  },
  {
   "cell_type": "code",
   "execution_count": 3,
   "metadata": {},
   "outputs": [
    {
     "name": "stdout",
     "output_type": "stream",
     "text": [
      "2.99\n",
      "\n",
      "\n",
      "2\n",
      "100\n",
      "B\n",
      "5th_item\n",
      "dict_keys(['k1', 'k2', 'k3', 'k4', 'k5'])\n",
      "dict_values([123, [1, 2, 3], {'insideKey': 100}, 'b', '5th_item'])\n",
      "dict_items([('k1', 123), ('k2', [1, 2, 3]), ('k3', {'insideKey': 100}), ('k4', 'b'), ('k5', '5th_item')])\n"
     ]
    }
   ],
   "source": [
    "# DICTIONARIES\n",
    "# cannot be ordered or sorted\n",
    "# defined by {}\n",
    "prices_lookup = {'apple':2.99,'orange':1.99, 'milk':3.29}\n",
    "print(prices_lookup['apple'])\n",
    "print('\\n')\n",
    "\n",
    "# can also have a list or another dicitonary in a dictionary\n",
    "dictionary = {'k1':123,'k2':[1,2,3],'k3':{'insideKey':100},'k4':'b'}\n",
    "print(dictionary['k2'][1])\n",
    "print(dictionary['k3']['insideKey'])\n",
    "print(dictionary['k4'].upper())\n",
    "dictionary['k5'] = '5th_item'\n",
    "# adds another item to dictionary/ same syntax for overriding key w new value\n",
    "print(dictionary['k5'])\n",
    "print(dictionary.keys())\n",
    "# shows all keys within dictionary\n",
    "print(dictionary.values())\n",
    "# shows all values within dictionary\n",
    "print(dictionary.items())\n",
    "# shows all items"
   ]
  },
  {
   "cell_type": "code",
   "execution_count": 4,
   "metadata": {},
   "outputs": [
    {
     "name": "stdout",
     "output_type": "stream",
     "text": [
      "1\n",
      "0\n"
     ]
    }
   ],
   "source": [
    "# TUPLES ()\n",
    "# like lists but have immutability (no reassignment)\n",
    "# good for data integrity\n",
    "t = ('a','b','c')\n",
    "print(t.count('a'))\n",
    "# counts how many times a is in the tuple\n",
    "print(t.index('a'))\n",
    "# finds a is within the tuple"
   ]
  },
  {
   "cell_type": "code",
   "execution_count": 5,
   "metadata": {},
   "outputs": [
    {
     "name": "stdout",
     "output_type": "stream",
     "text": [
      "{1}\n",
      " {1, 2} \n",
      "\n",
      "{1, 2, 3}\n"
     ]
    }
   ],
   "source": [
    "# SETS\n",
    "# unordered collections of UNIQUE elements\n",
    "my_set = set()\n",
    "my_set.add(1)\n",
    "print(my_set)\n",
    "my_set.add(2)\n",
    "print(f' {my_set} \\n')   \n",
    "# adding values in a set\n",
    "\n",
    "my_list = [1,1,1,2,2,2,3,3,3]\n",
    "print(set(my_list))\n",
    "# will find unique values of list"
   ]
  },
  {
   "cell_type": "code",
   "execution_count": 6,
   "metadata": {},
   "outputs": [],
   "source": [
    "# creating a text file\n",
    "# opening a text file\n",
    "# reading the text file"
   ]
  },
  {
   "cell_type": "code",
   "execution_count": 7,
   "metadata": {},
   "outputs": [
    {
     "name": "stdout",
     "output_type": "stream",
     "text": [
      "Overwriting myfile.txt\n"
     ]
    }
   ],
   "source": [
    "%%writefile myfile.txt\n",
    "Hello this is a text line\n",
    "this is the second line"
   ]
  },
  {
   "cell_type": "code",
   "execution_count": 8,
   "metadata": {},
   "outputs": [],
   "source": [
    "myfile = open('myfile.txt')"
   ]
  },
  {
   "cell_type": "code",
   "execution_count": 9,
   "metadata": {},
   "outputs": [
    {
     "data": {
      "text/plain": [
       "'Hello this is a text line\\nthis is the second line\\n'"
      ]
     },
     "execution_count": 9,
     "metadata": {},
     "output_type": "execute_result"
    }
   ],
   "source": [
    "myfile.read()"
   ]
  },
  {
   "cell_type": "code",
   "execution_count": 10,
   "metadata": {},
   "outputs": [
    {
     "data": {
      "text/plain": [
       "''"
      ]
     },
     "execution_count": 10,
     "metadata": {},
     "output_type": "execute_result"
    }
   ],
   "source": [
    "myfile.read()"
   ]
  },
  {
   "cell_type": "code",
   "execution_count": 11,
   "metadata": {},
   "outputs": [
    {
     "data": {
      "text/plain": [
       "'Hello this is a text line\\nthis is the second line\\n'"
      ]
     },
     "execution_count": 11,
     "metadata": {},
     "output_type": "execute_result"
    }
   ],
   "source": [
    "myfile.seek(0)\n",
    "# this will reset the cursor to the beginning\n",
    "myfile.read()"
   ]
  },
  {
   "cell_type": "code",
   "execution_count": 12,
   "metadata": {},
   "outputs": [],
   "source": [
    "myfile.close()"
   ]
  },
  {
   "cell_type": "code",
   "execution_count": 13,
   "metadata": {},
   "outputs": [],
   "source": [
    "# easier way to use files without having to close them"
   ]
  },
  {
   "cell_type": "code",
   "execution_count": 14,
   "metadata": {},
   "outputs": [
    {
     "name": "stdout",
     "output_type": "stream",
     "text": [
      "Hello this is a text line\n",
      "this is the second line\n",
      "\n"
     ]
    }
   ],
   "source": [
    "with open('myfile.txt') as my_new_file:\n",
    "    contents = my_new_file.read()\n",
    "print(contents)"
   ]
  },
  {
   "cell_type": "code",
   "execution_count": 15,
   "metadata": {},
   "outputs": [
    {
     "ename": "UnsupportedOperation",
     "evalue": "not readable",
     "output_type": "error",
     "traceback": [
      "\u001b[1;31m---------------------------------------------------------------------------\u001b[0m",
      "\u001b[1;31mUnsupportedOperation\u001b[0m                      Traceback (most recent call last)",
      "Cell \u001b[1;32mIn[15], line 2\u001b[0m\n\u001b[0;32m      1\u001b[0m \u001b[39mwith\u001b[39;00m \u001b[39mopen\u001b[39m(\u001b[39m'\u001b[39m\u001b[39mmyfile.txt\u001b[39m\u001b[39m'\u001b[39m,mode \u001b[39m=\u001b[39m \u001b[39m'\u001b[39m\u001b[39mw\u001b[39m\u001b[39m'\u001b[39m) \u001b[39mas\u001b[39;00m myfile:\n\u001b[1;32m----> 2\u001b[0m     contents \u001b[39m=\u001b[39m myfile\u001b[39m.\u001b[39;49mread()\n",
      "\u001b[1;31mUnsupportedOperation\u001b[0m: not readable"
     ]
    }
   ],
   "source": [
    "with open('myfile.txt',mode = 'w') as myfile:\n",
    "    contents = myfile.read()\n"
   ]
  },
  {
   "cell_type": "code",
   "execution_count": null,
   "metadata": {},
   "outputs": [],
   "source": [
    "# READING, WRITING, APPENDING MODES\n",
    "# mode='r' is read only\n",
    "# mode='w' is write only (will overwrite files or create new)\n",
    "# mode='a' is append only (will add on to files)\n",
    "# mode='r+' is reading and writing\n",
    "# mode='w+' is writing and reading (overwrites existing files or creates a new file!)"
   ]
  },
  {
   "cell_type": "code",
   "execution_count": null,
   "metadata": {},
   "outputs": [
    {
     "name": "stdout",
     "output_type": "stream",
     "text": [
      "Writing my_new_file.txt\n"
     ]
    }
   ],
   "source": [
    "%%writefile my_new_file.txt\n",
    "ONE ON FIRST\n",
    "TWO ON SECOND\n",
    "THREE ON THIRD\n"
   ]
  },
  {
   "cell_type": "code",
   "execution_count": null,
   "metadata": {},
   "outputs": [
    {
     "name": "stdout",
     "output_type": "stream",
     "text": [
      "ONE ON FIRST\n",
      "TWO ON SECOND\n",
      "THREE ON THIRD\n",
      "\n"
     ]
    }
   ],
   "source": [
    "with open('my_new_file.txt',mode='r') as f:\n",
    "    print(f.read())"
   ]
  },
  {
   "cell_type": "code",
   "execution_count": null,
   "metadata": {},
   "outputs": [
    {
     "name": "stdout",
     "output_type": "stream",
     "text": [
      "ONE ON FIRST\n",
      "TWO ON SECOND\n",
      "THREE ON THIRD\n",
      "FOUR ON FOURTH\n"
     ]
    }
   ],
   "source": [
    "with open('my_new_file.txt',mode='a') as f:\n",
    "    f.write('FOUR ON FOURTH')\n",
    "with open('my_new_file.txt',mode='r') as f:\n",
    "    print(f.read())"
   ]
  },
  {
   "cell_type": "code",
   "execution_count": null,
   "metadata": {},
   "outputs": [
    {
     "name": "stdout",
     "output_type": "stream",
     "text": [
      "I CREATED THIS FILE!\n"
     ]
    }
   ],
   "source": [
    "with open('new_new_file_hehe.txt', mode='w') as p:\n",
    "    p.write('I CREATED THIS FILE!')\n",
    "with open('new_new_file_hehe.txt', mode='r') as p:\n",
    "    print(p.read())"
   ]
  }
 ],
 "metadata": {
  "kernelspec": {
   "display_name": "Python 3",
   "language": "python",
   "name": "python3"
  },
  "language_info": {
   "codemirror_mode": {
    "name": "ipython",
    "version": 3
   },
   "file_extension": ".py",
   "mimetype": "text/x-python",
   "name": "python",
   "nbconvert_exporter": "python",
   "pygments_lexer": "ipython3",
   "version": "3.11.0"
  },
  "orig_nbformat": 4,
  "vscode": {
   "interpreter": {
    "hash": "56dde0d177106c8dc6d06485c9f7e44adf25a9f07108d7699c0f9f1718bf44aa"
   }
  }
 },
 "nbformat": 4,
 "nbformat_minor": 2
}
