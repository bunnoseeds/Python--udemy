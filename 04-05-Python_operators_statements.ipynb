{
 "cells": [
  {
   "cell_type": "code",
   "execution_count": 4,
   "metadata": {},
   "outputs": [],
   "source": [
    "# **THIS IS NOT MY ORIGINAL DATA, used solutions for assistance as needed\n",
    "# ** UDEMY IS RESPONSIBLE\n",
    "# COURSE: The Complete Python Bootcamp: From Zero to Hero\n",
    "# by Jose Portilla"
   ]
  },
  {
   "cell_type": "code",
   "execution_count": 5,
   "metadata": {},
   "outputs": [
    {
     "name": "stdout",
     "output_type": "stream",
     "text": [
      "hello\n",
      "\n",
      "\n",
      "hello\n"
     ]
    }
   ],
   "source": [
    "# 03- practice\n",
    "d = {'k1':[{'nest_key':['this is deep',['hello']]}]}\n",
    "print(d['k1'][0]['nest_key'][1][0])\n",
    "print('\\n')\n",
    "\n",
    "d = {'k1':[1,2,{'k2':['this is tricky',{'tough':[1,2,['hello']]}]}]}\n",
    "print(d['k1'][2]['k2'][1]['tough'][2][0])"
   ]
  },
  {
   "cell_type": "code",
   "execution_count": 7,
   "metadata": {},
   "outputs": [
    {
     "name": "stdout",
     "output_type": "stream",
     "text": [
      "money is cool\n"
     ]
    }
   ],
   "source": [
    "# IF ELIF ELSE\n",
    "\n",
    "loc = 'bank'\n",
    "\n",
    "if loc == 'auto-shop':\n",
    "    print('cars are cool')\n",
    "elif loc == 'bank':\n",
    "    print('money is cool')\n",
    "else:\n",
    "    print('i dont know much about cars')\n"
   ]
  },
  {
   "cell_type": "code",
   "execution_count": 8,
   "metadata": {},
   "outputs": [
    {
     "name": "stdout",
     "output_type": "stream",
     "text": [
      "1\n",
      "2\n",
      "3\n",
      "4\n",
      "5\n",
      "6\n",
      "7\n",
      "8\n",
      "9\n",
      "10\n"
     ]
    }
   ],
   "source": [
    "# FOR LOOPS\n",
    "# my_iterable = [1,2,3]\n",
    "# for x in my_iterable:\n",
    "#   print(x)\n",
    "\n",
    "my_list = [1,2,3,4,5,6,7,8,9,10]\n",
    "for num in my_list:\n",
    "    print(num)"
   ]
  },
  {
   "cell_type": "code",
   "execution_count": 12,
   "metadata": {},
   "outputs": [
    {
     "name": "stdout",
     "output_type": "stream",
     "text": [
      "1 is odd\n",
      "2 is even\n",
      "3 is odd\n",
      "4 is even\n",
      "5 is odd\n",
      "6 is even\n",
      "7 is odd\n",
      "8 is even\n",
      "9 is odd\n",
      "10 is even\n"
     ]
    }
   ],
   "source": [
    "# FOR LOOPS with conditional statement\n",
    "# indentation/whitespace matters\n",
    "my_list = [1,2,3,4,5,6,7,8,9,10]\n",
    "for num in my_list:\n",
    "    if num % 2 == 0:        # if the remainder of num/2 is 0...\n",
    "        print(f'{num} is even')\n",
    "    else:\n",
    "        print(f'{num} is odd')"
   ]
  },
  {
   "cell_type": "code",
   "execution_count": 13,
   "metadata": {},
   "outputs": [
    {
     "name": "stdout",
     "output_type": "stream",
     "text": [
      "2\n",
      "5\n",
      "8\n"
     ]
    }
   ],
   "source": [
    "# tuple unpacking\n",
    "tuple_list = [(1,2,3),(4,5,6),(7,8,9)]\n",
    "\n",
    "for a,b,c in tuple_list:\n",
    "    print(b)\n"
   ]
  },
  {
   "cell_type": "code",
   "execution_count": 25,
   "metadata": {},
   "outputs": [
    {
     "name": "stdout",
     "output_type": "stream",
     "text": [
      "1\n",
      "2\n",
      "3\n",
      "\n",
      "\n",
      "('k1', 1)\n",
      "('k2', 2)\n",
      "('k3', 3)\n",
      "\n",
      "\n",
      "k1\n",
      "k2\n",
      "k3\n",
      "\n",
      "\n"
     ]
    }
   ],
   "source": [
    "# dictionaries: \n",
    "d = {'k1':1,'k2':2,'k3':3}\n",
    "\n",
    "# eaiser to use .items w/ a,b rather than .values or .keys\n",
    "for a,b in d.items():  \n",
    "    print(b)\n",
    "print('\\n')\n",
    "\n",
    "for a in d.items():\n",
    "    print(a)\n",
    "print('\\n')\n",
    "\n",
    "for a in d.keys():\n",
    "    print(a)\n",
    "print('\\n')"
   ]
  },
  {
   "cell_type": "code",
   "execution_count": 28,
   "metadata": {},
   "outputs": [
    {
     "name": "stdout",
     "output_type": "stream",
     "text": [
      "0\n",
      "1\n",
      "2\n",
      "3\n",
      "4\n",
      "x is not less than 5\n"
     ]
    }
   ],
   "source": [
    "# WHILE LOOPS\n",
    "# while some_boolean_cond:\n",
    "#   do somethings\n",
    "# else:\n",
    "#   do something else\n",
    "\n",
    "x = 0 \n",
    "while x<5:\n",
    "    print(x)\n",
    "    x = x+1\n",
    "    # same things as x+=1\n",
    "else:\n",
    "    print('x is not less than 5')"
   ]
  },
  {
   "cell_type": "code",
   "execution_count": 33,
   "metadata": {},
   "outputs": [
    {
     "name": "stdout",
     "output_type": "stream",
     "text": [
      "end of my pass-script\n",
      "\n",
      "R\n",
      "g\n",
      "g\n",
      "i\n",
      "\n",
      "\n",
      "1\n",
      "2\n"
     ]
    }
   ],
   "source": [
    "# BREAK, CONTINUE, PASS\n",
    "# break: breaks out of the current closest enclosing loop\n",
    "# continue: goes to the top of the closest enclosing loop\n",
    "# pass: does nothing at all\n",
    "\n",
    "x = [1,2,3]\n",
    "for y in x:\n",
    "    # stuff\n",
    "    pass\n",
    "print('end of my pass-script\\n')\n",
    "\n",
    "my_string = 'Reggie'\n",
    "for ltr in my_string:\n",
    "    if ltr == 'e':\n",
    "        continue\n",
    "    print(ltr)\n",
    "print('\\n')\n",
    "\n",
    "y = 0\n",
    "while y<5:\n",
    "    if y == 2:\n",
    "        break\n",
    "    y+=1\n",
    "    print(y)\n",
    "\n",
    "\n"
   ]
  },
  {
   "cell_type": "code",
   "execution_count": 5,
   "metadata": {},
   "outputs": [
    {
     "name": "stdout",
     "output_type": "stream",
     "text": [
      "0\n",
      "2\n",
      "4\n",
      "6\n",
      "8\n",
      "10\n",
      "\n",
      "\n"
     ]
    }
   ],
   "source": [
    "# USEFUL OPERATORS: range\n",
    "my_list = [1,2,3]\n",
    "for num in range(0,11,2):   # generator\n",
    "    print(num)\n",
    "print('\\n')"
   ]
  },
  {
   "cell_type": "code",
   "execution_count": 12,
   "metadata": {},
   "outputs": [
    {
     "name": "stdout",
     "output_type": "stream",
     "text": [
      "at index 0 the letter is a\n",
      "at index 1 the letter is b\n",
      "at index 2 the letter is c\n",
      "at index 3 the letter is d\n",
      "at index 4 the letter is e\n",
      "\n",
      "\n",
      "a\n",
      "b\n",
      "c\n",
      "d\n",
      "e\n",
      "\n",
      "\n",
      "0 a\n",
      "1 b\n",
      "2 c\n",
      "3 d\n",
      "4 e\n"
     ]
    }
   ],
   "source": [
    "#enumerator\n",
    "index_count = 0\n",
    "word = 'abcde'\n",
    "for letter in word:\n",
    "    print('at index {} the letter is {}'.format(index_count,letter))\n",
    "    index_count += 1\n",
    "print('\\n')\n",
    "\n",
    "index_count = 0\n",
    "word = 'abcde'\n",
    "for letter in word:\n",
    "    print(word[index_count])\n",
    "    index_count += 1\n",
    "print('\\n')\n",
    "\n",
    "word = 'abcde'\n",
    "for x,y in enumerate(word):\n",
    "    print(x,y)"
   ]
  },
  {
   "cell_type": "code",
   "execution_count": 13,
   "metadata": {},
   "outputs": [
    {
     "name": "stdout",
     "output_type": "stream",
     "text": [
      "(1, 'a')\n",
      "(2, 'b')\n",
      "(3, 'c')\n"
     ]
    }
   ],
   "source": [
    "# zip\n",
    "mylist1 = [1,2,3]\n",
    "mylist2 = ['a','b','c']\n",
    "for item in zip(mylist1,mylist2):\n",
    "    print(item)\n"
   ]
  },
  {
   "cell_type": "code",
   "execution_count": 16,
   "metadata": {},
   "outputs": [
    {
     "name": "stdout",
     "output_type": "stream",
     "text": [
      "the min is 10\n",
      "the max is 50\n"
     ]
    }
   ],
   "source": [
    "# min/max\n",
    "mylist = [10,20,30,40,50]\n",
    "min1 = min(mylist)\n",
    "max1 = max(mylist)\n",
    "print(f'the min is {min1}')\n",
    "print(f'the max is {max1}')\n"
   ]
  },
  {
   "cell_type": "code",
   "execution_count": 28,
   "metadata": {},
   "outputs": [
    {
     "name": "stdout",
     "output_type": "stream",
     "text": [
      "[2, 7, 5, 3, 6, 1, 9, 8, 10, 4]\n",
      "\n",
      "\n",
      "86\n"
     ]
    }
   ],
   "source": [
    "# LIBRARIES : shuffle\n",
    "from random import shuffle\n",
    "mylist = [1,2,3,4,5,6,7,8,9,10]\n",
    "shuffle(mylist) # inplace function\n",
    "print(mylist)\n",
    "print('\\n')\n",
    "\n",
    "# random\n",
    "from random import randint\n",
    "num = randint(0,100)\n",
    "print(num)\n"
   ]
  },
  {
   "cell_type": "code",
   "execution_count": 1,
   "metadata": {},
   "outputs": [
    {
     "data": {
      "text/plain": [
       "'4'"
      ]
     },
     "execution_count": 1,
     "metadata": {},
     "output_type": "execute_result"
    }
   ],
   "source": [
    "input('enter a number here: ')\n",
    "# will prompt user to input str value top of screeen"
   ]
  },
  {
   "cell_type": "code",
   "execution_count": 8,
   "metadata": {},
   "outputs": [
    {
     "name": "stdout",
     "output_type": "stream",
     "text": [
      "['h', 'e', 'l', 'l', 'o']\n",
      "\n",
      "\n",
      "['h', 'e', 'l', 'l', 'o']\n",
      "\n",
      "\n",
      "[0, 1, 4, 9, 16, 25, 36, 49, 64, 81]\n"
     ]
    }
   ],
   "source": [
    "# LIST COMPREHENSION\n",
    "mystring = 'hello'\n",
    "mylist = []\n",
    "for letter in mystring:\n",
    "    mylist.append(letter)\n",
    "print(mylist)\n",
    "print('\\n')\n",
    "\n",
    "# same things as\n",
    "mylist2 = [letter for letter in 'hello']\n",
    "print(mylist2)\n",
    "print('\\n')\n",
    "\n",
    "mylist3 = [x**2 for x in range(0,10)]\n",
    "print(mylist3)\n"
   ]
  },
  {
   "cell_type": "code",
   "execution_count": 53,
   "metadata": {},
   "outputs": [
    {
     "name": "stdout",
     "output_type": "stream",
     "text": [
      "[0, 2, 4, 6, 8]\n",
      "\n",
      "\n",
      "[0, 'odd', 2, 'odd', 4, 'odd', 6, 'odd', 8, 'odd']\n",
      "\n",
      "\n",
      "[32.0, 41.0, 53.6, 86.0]\n",
      "\n",
      "\n",
      "[32.0, 41.0, 53.6, 86.0]\n",
      "\n",
      "\n",
      "[1, 10, 100, 2, 20, 200, 3, 30, 300]\n"
     ]
    }
   ],
   "source": [
    "# LIST comprehension part 2\n",
    "evenNumsOnly = [x for x in range(0,10) if x%2==0]\n",
    "print(evenNumsOnly)\n",
    "print('\\n')\n",
    "\n",
    "evenNumsOnly2 = [x if x%2==0 else 'odd' for x in range(0,10)]\n",
    "print(evenNumsOnly2)\n",
    "print('\\n')\n",
    "\n",
    "celsius = [0,5,12,30]\n",
    "farenheight = [ ((9/5)*temp+32) for temp in celsius]\n",
    "print(farenheight)\n",
    "print('\\n')\n",
    "\n",
    "farenheight = []\n",
    "for temp in celsius:\n",
    "    farenheight.append((9/5)*temp+32)\n",
    "print(farenheight)\n",
    "print('\\n')\n",
    "\n",
    "# nested \n",
    "my_list = []\n",
    "for x in [1,2,3]:\n",
    "    for y in [1,10,100]:\n",
    "        my_list.append(x*y)\n",
    "print(my_list)        "
   ]
  },
  {
   "cell_type": "code",
   "execution_count": 54,
   "metadata": {},
   "outputs": [
    {
     "name": "stdout",
     "output_type": "stream",
     "text": [
      "start\n",
      "s\n",
      "sentence\n"
     ]
    }
   ],
   "source": [
    "# QUESTION 1: MY ATTEMPTED SOLUTION\n",
    "st = 'print only the words that start with s in this sentence'\n",
    "x = st.split()      # splitting words into a list\n",
    "#                   ['print', 'only', 'the', 'words', 'that', 'start', 'with', 's', 'in', 'this', 'sentence']\n",
    "for y in x:         # for loop to find words starting w/ s\n",
    "#                   in 'x' bc x was assigned to the list of words split\n",
    "    if y[0].lower()=='s':   #y[0] = first letter of each word(y) == 's'\n",
    "        print(y)    # print the word(y)\n",
    "      "
   ]
  },
  {
   "cell_type": "code",
   "execution_count": 55,
   "metadata": {},
   "outputs": [
    {
     "name": "stdout",
     "output_type": "stream",
     "text": [
      "0\n",
      "2\n",
      "4\n",
      "6\n",
      "8\n",
      "10\n",
      "[0, 2, 4, 6, 8, 10]\n"
     ]
    }
   ],
   "source": [
    "# QUESTION 2: MY ATTEMPTED SOLUTION\n",
    "# Use range() to print all the even numbers from 0 to 10\n",
    "\n",
    "list = range(0,11)  # couldve done range(0,11,2)\n",
    "for x in list:\n",
    "    if x%2 == 0:\n",
    "        print(x)\n",
    "\n",
    "list = range(0,11)\n",
    "evenList = []\n",
    "for x in list:\n",
    "    if x%2==0:\n",
    "        evenList.append(x) \n",
    "print(evenList)   "
   ]
  },
  {
   "cell_type": "code",
   "execution_count": 58,
   "metadata": {},
   "outputs": [
    {
     "name": "stdout",
     "output_type": "stream",
     "text": [
      "[3, 6, 9, 12, 15, 18, 21, 24, 27, 30, 33, 36, 39, 42, 45, 48]\n"
     ]
    }
   ],
   "source": [
    "# QUESTION 3: MY ATTEMPTED SOLUTION\n",
    "# use a list comprehension to create a list of all numbers between 1-50 that are divisible by 3\n",
    "\n",
    "divBy3 = [x for x in range(1,51) if x%3==0]\n",
    "print(divBy3)"
   ]
  },
  {
   "cell_type": "code",
   "execution_count": 60,
   "metadata": {},
   "outputs": [
    {
     "name": "stdout",
     "output_type": "stream",
     "text": [
      "Print\n",
      "every\n",
      "even!\n",
      "even!\n",
      "even!\n",
      "even!\n",
      "even!\n",
      "has\n",
      "even!\n",
      "even!\n",
      "even!\n",
      "even!\n",
      "letters\n"
     ]
    }
   ],
   "source": [
    "# QUESTION 4: MY ATTEMPTED SOLUTION\n",
    "# go through the string below and if the length of a word is even, print 'even!'\n",
    "st = 'Print every word in this sentence that has an even number of letters'\n",
    "x = st.split()\n",
    "for y in x:\n",
    "    if len(y)%2==0:     #if the length of the word is even\n",
    "        print('even!')\n",
    "    else:\n",
    "        print(y)"
   ]
  },
  {
   "cell_type": "code",
   "execution_count": 62,
   "metadata": {},
   "outputs": [
    {
     "name": "stdout",
     "output_type": "stream",
     "text": [
      "1\n",
      "2\n",
      "Fizz\n",
      "4\n",
      "Buzz\n",
      "Fizz\n",
      "7\n",
      "8\n",
      "Fizz\n",
      "Buzz\n",
      "11\n",
      "Fizz\n",
      "13\n",
      "14\n",
      "FizzBuzz\n",
      "16\n",
      "17\n",
      "Fizz\n",
      "19\n",
      "Buzz\n",
      "Fizz\n",
      "22\n",
      "23\n",
      "Fizz\n",
      "Buzz\n",
      "26\n",
      "Fizz\n",
      "28\n",
      "29\n",
      "FizzBuzz\n",
      "31\n",
      "32\n",
      "Fizz\n",
      "34\n",
      "Buzz\n",
      "Fizz\n",
      "37\n",
      "38\n",
      "Fizz\n",
      "Buzz\n",
      "41\n",
      "Fizz\n",
      "43\n",
      "44\n",
      "FizzBuzz\n",
      "46\n",
      "47\n",
      "Fizz\n",
      "49\n",
      "Buzz\n",
      "Fizz\n",
      "52\n",
      "53\n",
      "Fizz\n",
      "Buzz\n",
      "56\n",
      "Fizz\n",
      "58\n",
      "59\n",
      "FizzBuzz\n",
      "61\n",
      "62\n",
      "Fizz\n",
      "64\n",
      "Buzz\n",
      "Fizz\n",
      "67\n",
      "68\n",
      "Fizz\n",
      "Buzz\n",
      "71\n",
      "Fizz\n",
      "73\n",
      "74\n",
      "FizzBuzz\n",
      "76\n",
      "77\n",
      "Fizz\n",
      "79\n",
      "Buzz\n",
      "Fizz\n",
      "82\n",
      "83\n",
      "Fizz\n",
      "Buzz\n",
      "86\n",
      "Fizz\n",
      "88\n",
      "89\n",
      "FizzBuzz\n",
      "91\n",
      "92\n",
      "Fizz\n",
      "94\n",
      "Buzz\n",
      "Fizz\n",
      "97\n",
      "98\n",
      "Fizz\n"
     ]
    }
   ],
   "source": [
    "# QUESTION 5: MY ATTEMPTED SOLUTION\n",
    "# write a program that prints the integers from 1-100. but for multiples of 3, print 'Fizz' instead of the \n",
    "# number, and for the multiples of 5, print 'Buzz'. for numbers which are multiples of both 3 and 5 print \n",
    "# 'FizzBuzz'\n",
    "for x in range(1,101):\n",
    "    if x%3==0 and x%5==0:       # this statement goes first\n",
    "        print('FizzBuzz')\n",
    "    elif x%3==0:\n",
    "        print('Fizz')\n",
    "    elif x%5==0:\n",
    "        print('Buzz')\n",
    "    else:\n",
    "        print(x)"
   ]
  },
  {
   "cell_type": "code",
   "execution_count": 67,
   "metadata": {},
   "outputs": [
    {
     "name": "stdout",
     "output_type": "stream",
     "text": [
      "['C', 'a', 'l', 'o', 't', 'f', 'l', 'o', 'e', 'w', 'i', 't', 's']\n"
     ]
    }
   ],
   "source": [
    "# QUESTION 6: MY ATTEMPTED SOLUTION\n",
    "# use list comprehension to create a list of the first letters of every word in the string below\n",
    "st = 'Create a list of the first letters of every word in this string'\n",
    "first_letters = [x[0] for x in st.split()]\n",
    "print(first_letters)"
   ]
  }
 ],
 "metadata": {
  "kernelspec": {
   "display_name": "Python 3",
   "language": "python",
   "name": "python3"
  },
  "language_info": {
   "codemirror_mode": {
    "name": "ipython",
    "version": 3
   },
   "file_extension": ".py",
   "mimetype": "text/x-python",
   "name": "python",
   "nbconvert_exporter": "python",
   "pygments_lexer": "ipython3",
   "version": "3.11.0"
  },
  "orig_nbformat": 4,
  "vscode": {
   "interpreter": {
    "hash": "56dde0d177106c8dc6d06485c9f7e44adf25a9f07108d7699c0f9f1718bf44aa"
   }
  }
 },
 "nbformat": 4,
 "nbformat_minor": 2
}
